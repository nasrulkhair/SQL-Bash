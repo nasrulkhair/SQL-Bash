{
 "cells": [
  {
   "cell_type": "markdown",
   "id": "4b0fc059-2fe3-461c-86d3-444f5b6b63eb",
   "metadata": {},
   "source": [
    "## Coeffieicient of Variation \n",
    "\n",
    "- The coeffieicient of variotion (cv) is a ststaistical measure that represents the ratio of the standard deviation of the mean of a dataset.\n",
    "- It is often expressed as a percentage and is unitless which makes it useful for comparing the variablity of datasets.\n",
    "- A higher CV indicates greater relative variability, while a lower CV suggest more consistency relative to the mean.\n",
    "- For example: a CV of 10% means the standard deviation is 10% of the mean.\n",
    "- The CV is not suitable for datasets with a mean close to zero, as it can lead to misleading high values.\n",
    "\n",
    "Formula: CV = (STD / Mean) * 100%"
   ]
  },
  {
   "cell_type": "markdown",
   "id": "39ca1cf3-cd8d-45c7-9475-118a49f1f6cb",
   "metadata": {},
   "source": [
    "## Steps To Find the Coefficient of Variation\n",
    "\n",
    "1. Find the Mean\n",
    "2. Find the standard deviation (population / sample)\n",
    "3. Put into formula"
   ]
  },
  {
   "cell_type": "code",
   "execution_count": 4,
   "id": "808f37b3-d748-47ae-89bd-9bdbe827e616",
   "metadata": {},
   "outputs": [],
   "source": [
    "# importing libraries\n",
    "\n",
    "import numpy as np\n",
    "from scipy.stats import variation\n",
    "import pandas as pd\n",
    "\n",
    "# sample data\n",
    "data = [32, 56, 67, 23, 45, 12, 86]"
   ]
  },
  {
   "cell_type": "code",
   "execution_count": 5,
   "id": "04c5717b-b36b-49f4-8e36-b351e813f575",
   "metadata": {},
   "outputs": [
    {
     "name": "stdout",
     "output_type": "stream",
     "text": [
      "mean_data : 45.857142857142854\n",
      "std_pop : 23.972773672460608\n",
      "The coefficient variation of the population data is 52.28%\n"
     ]
    }
   ],
   "source": [
    "# Example 1: Numpy - Population\n",
    "\n",
    "mean_data = np.mean(data)\n",
    "print(f\"mean_data : {mean_data}\")\n",
    "std_pop = np.std(data)\n",
    "print(f\"std_pop : {std_pop}\")\n",
    "cv_pop = round(((std_pop / mean_data) * 100), 2)\n",
    "print(f\"The coefficient variation of the population data is {cv_pop}%\")"
   ]
  },
  {
   "cell_type": "code",
   "execution_count": 6,
   "id": "8235db0e-ea18-4215-81c4-d870c13b4835",
   "metadata": {},
   "outputs": [
    {
     "name": "stdout",
     "output_type": "stream",
     "text": [
      "std_samp : 25.893554998805985\n",
      "The coefficient variation of the sample data is 56.47%\n"
     ]
    }
   ],
   "source": [
    "# Example 2: Numpy - Sample\n",
    "\n",
    "std_samp = np.std(data, ddof = 1)\n",
    "print(f\"std_samp : {std_samp}\")\n",
    "\n",
    "cv_samp = round((( std_samp / mean_data ) * 100), 2)\n",
    "print(f\"The coefficient variation of the sample data is {cv_samp}%\")"
   ]
  },
  {
   "cell_type": "code",
   "execution_count": 7,
   "id": "9c17fb9d-1792-44d2-990a-7507e6b254cd",
   "metadata": {},
   "outputs": [
    {
     "name": "stdout",
     "output_type": "stream",
     "text": [
      "The coefficient variation of the sample data using scipy is 52.28%\n"
     ]
    }
   ],
   "source": [
    "# Example 3: CV by using Scipy - pop\n",
    "\n",
    "cv_scipy = round((variation(data) * 100), 2)\n",
    "print(f\"The coefficient variation of the sample data using scipy is {cv_scipy}%\")"
   ]
  },
  {
   "cell_type": "code",
   "execution_count": 8,
   "id": "f4574394-0547-48a9-93ec-2802c5e88c45",
   "metadata": {},
   "outputs": [
    {
     "name": "stdout",
     "output_type": "stream",
     "text": [
      "The CV by using pandas : 56.47\n"
     ]
    }
   ],
   "source": [
    "# Example 4: Using pandas - sample\n",
    "\n",
    "data_pre_df = {\"Values\" : data}\n",
    "df = pd.DataFrame(data_pre_df)\n",
    "\n",
    "mean_values = df[\"Values\"].mean()\n",
    "std_values = df[\"Values\"].std()\n",
    "cv_pandas = round((( std_values / mean_values) * 100), 2)\n",
    "print(f\"The CV by using pandas : {cv_pandas}\")"
   ]
  },
  {
   "cell_type": "code",
   "execution_count": null,
   "id": "d3de1572-5b78-40f5-8f63-71459e7253fd",
   "metadata": {},
   "outputs": [],
   "source": []
  },
  {
   "cell_type": "code",
   "execution_count": null,
   "id": "24a0d8e7-8662-49a4-8cc5-237d4428ba41",
   "metadata": {},
   "outputs": [],
   "source": []
  },
  {
   "cell_type": "code",
   "execution_count": null,
   "id": "23c7ea76-c70e-4eaa-abe9-e27b05bbedce",
   "metadata": {},
   "outputs": [],
   "source": []
  },
  {
   "cell_type": "code",
   "execution_count": null,
   "id": "f22177ef-d515-431a-95da-5138951fc7a9",
   "metadata": {},
   "outputs": [],
   "source": []
  },
  {
   "cell_type": "code",
   "execution_count": null,
   "id": "2255201c-901a-4f52-b480-3ad77d46438e",
   "metadata": {},
   "outputs": [],
   "source": []
  }
 ],
 "metadata": {
  "kernelspec": {
   "display_name": "Python 3 (ipykernel)",
   "language": "python",
   "name": "python3"
  },
  "language_info": {
   "codemirror_mode": {
    "name": "ipython",
    "version": 3
   },
   "file_extension": ".py",
   "mimetype": "text/x-python",
   "name": "python",
   "nbconvert_exporter": "python",
   "pygments_lexer": "ipython3",
   "version": "3.11.7"
  }
 },
 "nbformat": 4,
 "nbformat_minor": 5
}
