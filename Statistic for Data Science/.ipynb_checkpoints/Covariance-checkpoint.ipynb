{
 "cells": [
  {
   "cell_type": "markdown",
   "id": "24d869a5-dd42-4dab-9f6e-55688f6c7dc4",
   "metadata": {},
   "source": [
    "## Covariance\n",
    "\n",
    "Covariance is a statistical measure that indicates the extent to which two random variables change together. If the varriable tend to increase or decrease in tandem, the covariance is positive. If one tend to increase while the other decreases, the covariance is negative. If there is no particular pattern, the covariance is close to zero.\n",
    "\n",
    "**Scenario**: Suppose you have a dataset with the heights and weights of a group of people.\n",
    "\n",
    "**Covariance Interpretation**: A positive covariance would indicate that taller people tend to weight more, while a negatice covariance would indicate that taller peoplo tend to weight less.\n",
    "\n",
    "Sample Covariance: n-1\n",
    "Population Covariance: n\n",
    "\n",
    "Covariance Formula: Cov(X,Y) = SUM(X - Mean_x)(Y - Mean_y) / n \n",
    "\n"
   ]
  },
  {
   "cell_type": "markdown",
   "id": "fbb582c1-a423-4d2f-b822-e29d78b70ad1",
   "metadata": {},
   "source": [
    "Example Dataset:\n",
    "\n",
    "|  Person  |  Height(inches)  |  Weight(Pounds)  |\n",
    "-----------|------------------|------------------|\n",
    "|  1       |  63              |    121           |\n",
    "|  2       |  67              |    143           |\n",
    "|  3       |  69              |    154           |\n",
    "|  4       |  71              |    159           |\n",
    "|  5       |  73              |    165           |\n",
    "\n",
    "\n",
    "Step of finding the Covariance\n",
    "\n",
    "1. Find the Mean for X,Y...\n",
    "2. Claculate the difference from the mean  for each person\n",
    "3. Multiply the differences from the mean for each person\n",
    "4. Sum the Products for all people\n",
    "5. Divide the Sum b y the amount of Data Points or n-1 (Pop vs Sample)\n"
   ]
  },
  {
   "cell_type": "code",
   "execution_count": 43,
   "id": "2576978b-dfa2-4c28-87af-60387a4443d0",
   "metadata": {},
   "outputs": [],
   "source": [
    "# Importing libraries\n",
    "import numpy as np\n",
    "import pandas as pd\n",
    "import matplotlib.pyplot as plt\n",
    "import seaborn as sns\n"
   ]
  },
  {
   "cell_type": "code",
   "execution_count": 44,
   "id": "93b1653a-02f9-4419-a6cf-86f29a07dd07",
   "metadata": {},
   "outputs": [
    {
     "name": "stdout",
     "output_type": "stream",
     "text": [
      "281.65\n"
     ]
    },
    {
     "data": {
      "text/plain": [
       "225.32"
      ]
     },
     "execution_count": 44,
     "metadata": {},
     "output_type": "execute_result"
    }
   ],
   "source": [
    "# Example 1: Manual Calculation\n",
    "\n",
    "stock_x = [100, 104, 111, 123, 145]\n",
    "stock_y = [200, 201, 212, 211, 240]\n",
    "\n",
    "n = len(stock_x)\n",
    "\n",
    "\n",
    "mean_x = np.mean(stock_x)\n",
    "mean_y = np.mean(stock_y)\n",
    "\n",
    "diff_product_sum = 0\n",
    "\n",
    "for i in range(n):\n",
    "    diff_x = stock_x[i] - mean_x\n",
    "    diff_y = stock_y[i] - mean_y\n",
    "    diff_product_sum += diff_x * diff_y\n",
    "\n",
    "cov_sample = diff_product_sum / (n - 1)\n",
    "print(cov_sample)\n",
    "\n",
    "cov_pop = diff_product_sum / n\n",
    "cov_pop"
   ]
  },
  {
   "cell_type": "code",
   "execution_count": 45,
   "id": "469010dc-2e0d-4eba-9c93-dc220675b99a",
   "metadata": {},
   "outputs": [
    {
     "name": "stdout",
     "output_type": "stream",
     "text": [
      "[[ 1.838   4.1155]\n",
      " [ 4.1155 11.288 ]]\n",
      "4.115499999999999\n",
      "3.2923999999999993\n"
     ]
    }
   ],
   "source": [
    "# Example 2: Numpy Sample Covariance\n",
    "\n",
    "\n",
    "X = [1.9, 2.1, 3.6, 4.1, 5.1]\n",
    "Y = [7, 11, 13.4, 14.7, 15.2]\n",
    "\n",
    "# sample\n",
    "\n",
    "cov_matrix = np.cov(X,Y, ddof = 1)\n",
    "print(cov_matrix)\n",
    "cov_samp = cov_matrix[0,1]\n",
    "print(cov_samp)\n",
    "# population\n",
    "\n",
    "cov_pop = np.cov(X, Y, ddof = 0)[0, 1]\n",
    "print(cov_pop)"
   ]
  },
  {
   "cell_type": "code",
   "execution_count": 46,
   "id": "5bba3569-3b10-45e5-a6f7-9697dc3bef71",
   "metadata": {},
   "outputs": [
    {
     "data": {
      "text/plain": [
       "4.115499999999999"
      ]
     },
     "execution_count": 46,
     "metadata": {},
     "output_type": "execute_result"
    }
   ],
   "source": [
    "# Example 3: Covariance Using pandas\n",
    "\n",
    "data = {\n",
    "    \"X\": [1.9, 2.1, 3.6, 4.1, 5.1],\n",
    "    \"Y\": [7, 11, 13.4, 14.7, 15.2]\n",
    "}\n",
    "\n",
    "df = pd.DataFrame(data)\n",
    "df_matrix = df.cov()\n",
    "df_cov = df_matrix.loc[\"X\", \"Y\"]\n",
    "df_cov"
   ]
  },
  {
   "cell_type": "code",
   "execution_count": 47,
   "id": "44a279ce-1f6e-43a8-a35f-bae4588096c5",
   "metadata": {},
   "outputs": [
    {
     "data": {
      "text/plain": [
       "array([[ 1.838 ,  4.1155],\n",
       "       [ 4.1155, 11.288 ]])"
      ]
     },
     "execution_count": 47,
     "metadata": {},
     "output_type": "execute_result"
    }
   ],
   "source": [
    "cov_matrix"
   ]
  },
  {
   "cell_type": "code",
   "execution_count": 55,
   "id": "e86d1450-50b6-4166-96d1-7a2317824624",
   "metadata": {},
   "outputs": [
    {
     "data": {
      "image/png": "[encoded data removed]",
      "text/plain": [
       "<Figure size 600x400 with 2 Axes>"
      ]
     },
     "metadata": {},
     "output_type": "display_data"
    }
   ],
   "source": [
    "# Example 4: Plotting Covariance Matrix\n",
    "\n",
    "plt.figure(figsize=(6, 4))\n",
    "sns.heatmap(df_matrix, annot = True, cmap = \"coolwarm\", fmt = \".2f\")\n",
    "plt.title(\"Covariance Matrix\")\n",
    "plt.show()"
   ]
  },
  {
   "cell_type": "code",
   "execution_count": null,
   "id": "2d48944e-67d1-453c-bd95-c60e8b8f2da1",
   "metadata": {},
   "outputs": [],
   "source": []
  },
  {
   "cell_type": "code",
   "execution_count": null,
   "id": "cb6c6a46-7e54-4688-9cac-130d3f9b821f",
   "metadata": {},
   "outputs": [],
   "source": []
  },
  {
   "cell_type": "code",
   "execution_count": null,
   "id": "9389cc22-a501-4981-8170-1d3c09f5014a",
   "metadata": {},
   "outputs": [],
   "source": []
  }
 ],
 "metadata": {
  "kernelspec": {
   "display_name": "Python 3 (ipykernel)",
   "language": "python",
   "name": "python3"
  },
  "language_info": {
   "codemirror_mode": {
    "name": "ipython",
    "version": 3
   },
   "file_extension": ".py",
   "mimetype": "text/x-python",
   "name": "python",
   "nbconvert_exporter": "python",
   "pygments_lexer": "ipython3",
   "version": "3.11.7"
  }
 },
 "nbformat": 4,
 "nbformat_minor": 5
}
