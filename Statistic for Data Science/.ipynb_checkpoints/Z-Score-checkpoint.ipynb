{
 "cells": [
  {
   "cell_type": "markdown",
   "id": "34a32693-1577-493b-a015-0696ee9fcfc1",
   "metadata": {},
   "source": [
    "## Z-Score\n",
    "\n",
    "How many Standard Deviations away from the mean.\n",
    "\n",
    "A Z-Score of ) indicates that  the value is exatcly at the mean, while a positive Z-Score indicates a value above the mean, and a negative Z-Score indicates a value below the mean.\n",
    "\n",
    "### Example:\n",
    "\n",
    "X = 13, Mean = 5, Standard Deviation = 4\n",
    "\n",
    "### Formulae:\n",
    "Z = (Value-mean) / Std\n",
    "\n"
   ]
  },
  {
   "cell_type": "markdown",
   "id": "816f2f39-99e6-4422-9497-0366b4dd28f7",
   "metadata": {},
   "source": [
    "## Z-Score Outliers\n",
    "\n",
    "Must be a Normal Distribution\n",
    "The 68-95-99.7 rule:\n",
    "\n",
    "- 6*% of data within a normal distribution falls wihin 1 standard deviation of the mean\n",
    "- 95% of data falls within 2 standard deviations of the mean.\n",
    "- 99.7% of data falls within 3 standard deviations of the mean.\n",
    "\n",
    "3+ Standard deviations away can be considered an outlier"
   ]
  },
  {
   "cell_type": "code",
   "execution_count": 5,
   "id": "c0cea6bb-b62c-48f8-9f47-ed889bd2ce0b",
   "metadata": {},
   "outputs": [
    {
     "data": {
      "text/plain": [
       "[-0.861018707616916,\n",
       " -0.7412248004702147,\n",
       " -0.14225526473670785,\n",
       " -0.20215221831005853,\n",
       " 1.8343442031838644,\n",
       " -1.400091289777072,\n",
       " 1.0556838067303056,\n",
       " 0.4567142709967989]"
      ]
     },
     "execution_count": 5,
     "metadata": {},
     "output_type": "execute_result"
    }
   ],
   "source": [
    "# Example 1: Numpy\n",
    "\n",
    "# importing library\n",
    "import numpy as np\n",
    "\n",
    "# Creating random data\n",
    "data = [10, 12, 22, 21, 55, 1, 42, 32]\n",
    "\n",
    "# get the mean\n",
    "mean = np.mean(data)\n",
    "\n",
    "# get the standard deviation\n",
    "std = np.std(data)\n",
    "\n",
    "# calculating the z- score\n",
    "z_score = [(x-mean)/std for x in data]\n",
    "z_score"
   ]
  },
  {
   "cell_type": "code",
   "execution_count": 6,
   "id": "40a66c86-38ab-43d8-8077-e260b36659e7",
   "metadata": {},
   "outputs": [
    {
     "data": {
      "text/plain": [
       "array([-0.86101871, -0.7412248 , -0.14225526, -0.20215222,  1.8343442 ,\n",
       "       -1.40009129,  1.05568381,  0.45671427])"
      ]
     },
     "execution_count": 6,
     "metadata": {},
     "output_type": "execute_result"
    }
   ],
   "source": [
    "# Example 2: Scipy\n",
    "\n",
    "# importing library\n",
    "from scipy import stats\n",
    "\n",
    "# calculating the z_score\n",
    "z_score_scipy = stats.zscore(data)\n",
    "z_score_scipy"
   ]
  },
  {
   "cell_type": "code",
   "execution_count": 31,
   "id": "9a8e147a-17d2-4923-95a5-503314d6cdfc",
   "metadata": {},
   "outputs": [],
   "source": [
    "# Example 3: Pandas + detect the range of (68-96-99.7)\n",
    "\n",
    "# importing library\n",
    "import pandas as pd\n",
    "\n",
    "# creating a random seed number\n",
    "np.random.seed(7)\n",
    "\n",
    "# creating a random data \n",
    "data2 = np.random.normal(loc = 0, scale = 1, size = 1000)\n",
    "\n",
    "# Creating a df for the data\n",
    "df = pd.DataFrame(data2, columns=[\"Values\"])\n",
    "\n",
    "# Creating new column for Z-Score\n",
    "df[\"Z-Score\"] = (df[\"Values\"] - df[\"Values\"].mean()) / df[\"Values\"].std()\n",
    "\n",
    "# Creating range to group the z-score into its range\n",
    "\n",
    "with_1_std = len(df[(df[\"Z-Score\"] >= -1) & (df[\"Z-Score\"] <= 1)]) / len(df) * 100\n",
    "with_2_std = len(df[(df[\"Z-Score\"] >= -2) & (df[\"Z-Score\"] <= 2)]) / len(df) * 100\n",
    "with_3_std = len(df[(df[\"Z-Score\"] >= -3) & (df[\"Z-Score\"] <= 3)]) / len(df) * 100\n",
    "\n",
    "# Craeting summary df\n",
    "\n",
    "summary = pd.DataFrame({\n",
    "    \"Std Dev\" : [\"One\", \"Two\", \"Three\"],\n",
    "    \"Percent\" : [with_1_std, with_2_std, with_3_std]\n",
    "})\n",
    "\n",
    "# Creating outliers column and remove the outliers\n",
    "df[\"Outliers\"] = (df[\"Z-Score\"] > 3) | (df[\"Z-Score\"] < -3)\n",
    "top_5_highest = df.sort_values(by = \"Z-Score\", ascending = False).head(5)\n",
    "top_5_lowest = df.sort_values(by = \"Z-Score\", ascending = True).head(5)\n",
    "\n",
    "\n"
   ]
  },
  {
   "cell_type": "code",
   "execution_count": 34,
   "id": "e18ac06f-fe82-4474-8670-7fc821809411",
   "metadata": {},
   "outputs": [
    {
     "data": {
      "text/html": [
       "<div>\n",
       "<style scoped>\n",
       "    .dataframe tbody tr th:only-of-type {\n",
       "        vertical-align: middle;\n",
       "    }\n",
       "\n",
       "    .dataframe tbody tr th {\n",
       "        vertical-align: top;\n",
       "    }\n",
       "\n",
       "    .dataframe thead th {\n",
       "        text-align: right;\n",
       "    }\n",
       "</style>\n",
       "<table border=\"1\" class=\"dataframe\">\n",
       "  <thead>\n",
       "    <tr style=\"text-align: right;\">\n",
       "      <th></th>\n",
       "      <th>Values</th>\n",
       "      <th>Z-Score</th>\n",
       "      <th>Outliers</th>\n",
       "    </tr>\n",
       "  </thead>\n",
       "  <tbody>\n",
       "    <tr>\n",
       "      <th>457</th>\n",
       "      <td>-2.823831</td>\n",
       "      <td>-2.902935</td>\n",
       "      <td>False</td>\n",
       "    </tr>\n",
       "    <tr>\n",
       "      <th>449</th>\n",
       "      <td>-2.794785</td>\n",
       "      <td>-2.872771</td>\n",
       "      <td>False</td>\n",
       "    </tr>\n",
       "    <tr>\n",
       "      <th>419</th>\n",
       "      <td>-2.761517</td>\n",
       "      <td>-2.838223</td>\n",
       "      <td>False</td>\n",
       "    </tr>\n",
       "    <tr>\n",
       "      <th>278</th>\n",
       "      <td>-2.305183</td>\n",
       "      <td>-2.364327</td>\n",
       "      <td>False</td>\n",
       "    </tr>\n",
       "    <tr>\n",
       "      <th>356</th>\n",
       "      <td>-2.299249</td>\n",
       "      <td>-2.358164</td>\n",
       "      <td>False</td>\n",
       "    </tr>\n",
       "  </tbody>\n",
       "</table>\n",
       "</div>"
      ],
      "text/plain": [
       "       Values   Z-Score  Outliers\n",
       "457 -2.823831 -2.902935     False\n",
       "449 -2.794785 -2.872771     False\n",
       "419 -2.761517 -2.838223     False\n",
       "278 -2.305183 -2.364327     False\n",
       "356 -2.299249 -2.358164     False"
      ]
     },
     "execution_count": 34,
     "metadata": {},
     "output_type": "execute_result"
    }
   ],
   "source": [
    "# Removing outliers\n",
    "df_no_outliers = df[df[\"Outliers\"] == False]\n",
    "df.head()\n",
    "\n",
    "# Rechecking df that outliers has ben removed\n",
    "top_5_highest_no_outliers = df_no_outliers.sort_values(by = \"Z-Score\", ascending = False).head(5)\n",
    "# top_5_highest_no_outliers\n",
    "top_5_lowest_no_outliers = df_no_outliers.sort_values(by = \"Z-Score\", ascending = True).head(5)\n",
    "top_5_lowest_no_outliers"
   ]
  },
  {
   "cell_type": "code",
   "execution_count": 45,
   "id": "f94c9c73-31dd-4d59-a8fe-a79b52f14ca1",
   "metadata": {},
   "outputs": [
    {
     "name": "stderr",
     "output_type": "stream",
     "text": [
      "C:\\Users\\User\\anaconda3\\Lib\\site-packages\\seaborn\\_oldcore.py:1119: FutureWarning: use_inf_as_na option is deprecated and will be removed in a future version. Convert inf values to NaN before operating instead.\n",
      "  with pd.option_context('mode.use_inf_as_na', True):\n"
     ]
    },
    {
     "data": {
      "image/png": "[encoded data removed]",
      "text/plain": [
       "<Figure size 1000x600 with 1 Axes>"
      ]
     },
     "metadata": {},
     "output_type": "display_data"
    }
   ],
   "source": [
    "# plotting the chart to check the distribution \n",
    "import seaborn as sns\n",
    "import matplotlib.pyplot as plt\n",
    "from scipy.stats import norm\n",
    "\n",
    "plt.figure(figsize=(10, 6))\n",
    "\n",
    "# Histogram of Values\n",
    "sns.histplot(df[\"Values\"], kde=False, bins=10, color=\"skyblue\", label=\"Data\")\n",
    "\n",
    "# Fit a normal distribution to the data\n",
    "mean, std = df_no_outliers[\"Values\"].mean(), df_no_outliers[\"Values\"].std()\n",
    "x = np.linspace(min(df_no_outliers[\"Values\"]), max(df_no_outliers[\"Values\"]), 100)\n",
    "pdf = norm.pdf(x, mean, std)\n",
    "\n",
    "# Overlay normal distribution\n",
    "plt.plot(x, pdf * len(df_no_outliers) * (max(df_no_outliers[\"Values\"]) - min(df_no_outliers[\"Values\"])) / 10, color=\"red\", label=\"Normal Distribution\")\n",
    "\n",
    "# Labels and Title\n",
    "plt.title(\"Values and Normal Distribution\", fontsize=16)\n",
    "plt.xlabel(\"Values\", fontsize=14)\n",
    "plt.ylabel(\"Frequency\", fontsize=14)\n",
    "plt.legend()\n",
    "\n",
    "plt.show()"
   ]
  },
  {
   "cell_type": "code",
   "execution_count": null,
   "id": "096a4fb8-ee3c-4fda-b01d-3caa93868207",
   "metadata": {},
   "outputs": [],
   "source": []
  },
  {
   "cell_type": "code",
   "execution_count": null,
   "id": "86da8832-076f-475b-8122-09e76e6321b2",
   "metadata": {},
   "outputs": [],
   "source": []
  }
 ],
 "metadata": {
  "kernelspec": {
   "display_name": "Python 3 (ipykernel)",
   "language": "python",
   "name": "python3"
  },
  "language_info": {
   "codemirror_mode": {
    "name": "ipython",
    "version": 3
   },
   "file_extension": ".py",
   "mimetype": "text/x-python",
   "name": "python",
   "nbconvert_exporter": "python",
   "pygments_lexer": "ipython3",
   "version": "3.11.7"
  }
 },
 "nbformat": 4,
 "nbformat_minor": 5
}
