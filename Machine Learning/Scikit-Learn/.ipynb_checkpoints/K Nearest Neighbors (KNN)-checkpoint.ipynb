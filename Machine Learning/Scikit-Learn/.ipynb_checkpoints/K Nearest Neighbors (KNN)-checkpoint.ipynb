{
 "cells": [
  {
   "cell_type": "markdown",
   "id": "18f7dfde-0779-457f-ba6a-d1c9ee1c5479",
   "metadata": {},
   "source": [
    "### K-Nearest Neighbors (KNN)\n",
    "\n",
    "- KNN is a superised machine learning method to tackle classififcation and regression problems.\n",
    "- It can handle both numerical and categorical data\n",
    "- A non-parametric method that makes predictions based on the similarity of data points in a given dataset\n",
    "- KNN  is less sensitive to outliers compared to other algorithms\n",
    "- KN algorithm works by finding the K nearest neighbors to a given data point on a distance metric, such as **Euclidean** distance.\n",
    "- The class or value of the data points is determined by themajority vote or average of the K neighbors.\n",
    "- This approach allows algoritth to adapt to different patterns and make predictions based on the local structure data"
   ]
  },
  {
   "cell_type": "code",
   "execution_count": 98,
   "id": "47ad1415-8752-4bc1-8766-895072ad0336",
   "metadata": {},
   "outputs": [],
   "source": [
    "# Importing Libraries\n",
    "\n",
    "import pandas as pd\n",
    "from sklearn.preprocessing import MinMaxScaler\n",
    "from sklearn.model_selection import train_test_split\n",
    "from sklearn.neighbors import KNeighborsClassifier\n",
    "from sklearn.metrics import confusion_matrix\n",
    "from sklearn.metrics import classification_report"
   ]
  },
  {
   "cell_type": "code",
   "execution_count": 99,
   "id": "0ed54af5-946d-480f-af17-58ff8bd1cef6",
   "metadata": {},
   "outputs": [
    {
     "data": {
      "text/html": [
       "<div>\n",
       "<style scoped>\n",
       "    .dataframe tbody tr th:only-of-type {\n",
       "        vertical-align: middle;\n",
       "    }\n",
       "\n",
       "    .dataframe tbody tr th {\n",
       "        vertical-align: top;\n",
       "    }\n",
       "\n",
       "    .dataframe thead th {\n",
       "        text-align: right;\n",
       "    }\n",
       "</style>\n",
       "<table border=\"1\" class=\"dataframe\">\n",
       "  <thead>\n",
       "    <tr style=\"text-align: right;\">\n",
       "      <th></th>\n",
       "      <th>PLAYER</th>\n",
       "      <th>YRS</th>\n",
       "      <th>G</th>\n",
       "      <th>AB</th>\n",
       "      <th>R</th>\n",
       "      <th>H</th>\n",
       "      <th>2B</th>\n",
       "      <th>3B</th>\n",
       "      <th>HR</th>\n",
       "      <th>RBI</th>\n",
       "      <th>BB</th>\n",
       "      <th>SO</th>\n",
       "      <th>SB</th>\n",
       "      <th>CS</th>\n",
       "      <th>BA</th>\n",
       "      <th>HOF</th>\n",
       "    </tr>\n",
       "  </thead>\n",
       "  <tbody>\n",
       "    <tr>\n",
       "      <th>0</th>\n",
       "      <td>Ty Cobb</td>\n",
       "      <td>24</td>\n",
       "      <td>3035</td>\n",
       "      <td>11434</td>\n",
       "      <td>2246</td>\n",
       "      <td>4189</td>\n",
       "      <td>724</td>\n",
       "      <td>295</td>\n",
       "      <td>117</td>\n",
       "      <td>726</td>\n",
       "      <td>1249</td>\n",
       "      <td>357</td>\n",
       "      <td>892</td>\n",
       "      <td>178</td>\n",
       "      <td>0.366</td>\n",
       "      <td>1</td>\n",
       "    </tr>\n",
       "    <tr>\n",
       "      <th>1</th>\n",
       "      <td>Stan Musial</td>\n",
       "      <td>22</td>\n",
       "      <td>3026</td>\n",
       "      <td>10972</td>\n",
       "      <td>1949</td>\n",
       "      <td>3630</td>\n",
       "      <td>725</td>\n",
       "      <td>177</td>\n",
       "      <td>475</td>\n",
       "      <td>1951</td>\n",
       "      <td>1599</td>\n",
       "      <td>696</td>\n",
       "      <td>78</td>\n",
       "      <td>31</td>\n",
       "      <td>0.331</td>\n",
       "      <td>1</td>\n",
       "    </tr>\n",
       "    <tr>\n",
       "      <th>2</th>\n",
       "      <td>Tris Speaker</td>\n",
       "      <td>22</td>\n",
       "      <td>2789</td>\n",
       "      <td>10195</td>\n",
       "      <td>1882</td>\n",
       "      <td>3514</td>\n",
       "      <td>792</td>\n",
       "      <td>222</td>\n",
       "      <td>117</td>\n",
       "      <td>724</td>\n",
       "      <td>1381</td>\n",
       "      <td>220</td>\n",
       "      <td>432</td>\n",
       "      <td>129</td>\n",
       "      <td>0.345</td>\n",
       "      <td>1</td>\n",
       "    </tr>\n",
       "    <tr>\n",
       "      <th>3</th>\n",
       "      <td>Derek Jeter</td>\n",
       "      <td>20</td>\n",
       "      <td>2747</td>\n",
       "      <td>11195</td>\n",
       "      <td>1923</td>\n",
       "      <td>3465</td>\n",
       "      <td>544</td>\n",
       "      <td>66</td>\n",
       "      <td>260</td>\n",
       "      <td>1311</td>\n",
       "      <td>1082</td>\n",
       "      <td>1840</td>\n",
       "      <td>358</td>\n",
       "      <td>97</td>\n",
       "      <td>0.310</td>\n",
       "      <td>1</td>\n",
       "    </tr>\n",
       "    <tr>\n",
       "      <th>4</th>\n",
       "      <td>Honus Wagner</td>\n",
       "      <td>21</td>\n",
       "      <td>2792</td>\n",
       "      <td>10430</td>\n",
       "      <td>1736</td>\n",
       "      <td>3430</td>\n",
       "      <td>640</td>\n",
       "      <td>252</td>\n",
       "      <td>101</td>\n",
       "      <td>0</td>\n",
       "      <td>963</td>\n",
       "      <td>327</td>\n",
       "      <td>722</td>\n",
       "      <td>15</td>\n",
       "      <td>0.329</td>\n",
       "      <td>1</td>\n",
       "    </tr>\n",
       "  </tbody>\n",
       "</table>\n",
       "</div>"
      ],
      "text/plain": [
       "         PLAYER  YRS     G     AB     R     H   2B   3B   HR   RBI    BB  \\\n",
       "0       Ty Cobb   24  3035  11434  2246  4189  724  295  117   726  1249   \n",
       "1   Stan Musial   22  3026  10972  1949  3630  725  177  475  1951  1599   \n",
       "2  Tris Speaker   22  2789  10195  1882  3514  792  222  117   724  1381   \n",
       "3   Derek Jeter   20  2747  11195  1923  3465  544   66  260  1311  1082   \n",
       "4  Honus Wagner   21  2792  10430  1736  3430  640  252  101     0   963   \n",
       "\n",
       "     SO   SB   CS     BA  HOF  \n",
       "0   357  892  178  0.366    1  \n",
       "1   696   78   31  0.331    1  \n",
       "2   220  432  129  0.345    1  \n",
       "3  1840  358   97  0.310    1  \n",
       "4   327  722   15  0.329    1  "
      ]
     },
     "execution_count": 99,
     "metadata": {},
     "output_type": "execute_result"
    }
   ],
   "source": [
    "# code out the model\n",
    "\n",
    "df = pd.read_csv(\"500hits.csv\", encoding = \"latin-1\")\n",
    "df.head()"
   ]
  },
  {
   "cell_type": "code",
   "execution_count": 100,
   "id": "241b98c6-8150-4e00-b32c-023d972b5ad4",
   "metadata": {},
   "outputs": [
    {
     "data": {
      "text/html": [
       "<div>\n",
       "<style scoped>\n",
       "    .dataframe tbody tr th:only-of-type {\n",
       "        vertical-align: middle;\n",
       "    }\n",
       "\n",
       "    .dataframe tbody tr th {\n",
       "        vertical-align: top;\n",
       "    }\n",
       "\n",
       "    .dataframe thead th {\n",
       "        text-align: right;\n",
       "    }\n",
       "</style>\n",
       "<table border=\"1\" class=\"dataframe\">\n",
       "  <thead>\n",
       "    <tr style=\"text-align: right;\">\n",
       "      <th></th>\n",
       "      <th>PLAYER</th>\n",
       "      <th>YRS</th>\n",
       "      <th>G</th>\n",
       "      <th>AB</th>\n",
       "      <th>R</th>\n",
       "      <th>H</th>\n",
       "      <th>2B</th>\n",
       "      <th>3B</th>\n",
       "      <th>HR</th>\n",
       "      <th>RBI</th>\n",
       "      <th>BB</th>\n",
       "      <th>SO</th>\n",
       "      <th>SB</th>\n",
       "      <th>CS</th>\n",
       "      <th>BA</th>\n",
       "      <th>HOF</th>\n",
       "    </tr>\n",
       "  </thead>\n",
       "  <tbody>\n",
       "    <tr>\n",
       "      <th>160</th>\n",
       "      <td>Tim Raines Sr.</td>\n",
       "      <td>23</td>\n",
       "      <td>2502</td>\n",
       "      <td>8872</td>\n",
       "      <td>1571</td>\n",
       "      <td>2605</td>\n",
       "      <td>430</td>\n",
       "      <td>113</td>\n",
       "      <td>170</td>\n",
       "      <td>980</td>\n",
       "      <td>1330</td>\n",
       "      <td>966</td>\n",
       "      <td>808</td>\n",
       "      <td>146</td>\n",
       "      <td>0.294</td>\n",
       "      <td>2</td>\n",
       "    </tr>\n",
       "  </tbody>\n",
       "</table>\n",
       "</div>"
      ],
      "text/plain": [
       "             PLAYER  YRS     G    AB     R     H   2B   3B   HR  RBI    BB  \\\n",
       "160  Tim Raines Sr.   23  2502  8872  1571  2605  430  113  170  980  1330   \n",
       "\n",
       "      SO   SB   CS     BA  HOF  \n",
       "160  966  808  146  0.294    2  "
      ]
     },
     "execution_count": 100,
     "metadata": {},
     "output_type": "execute_result"
    }
   ],
   "source": [
    "df[df[\"HOF\"] == 2]\n"
   ]
  },
  {
   "cell_type": "code",
   "execution_count": 101,
   "id": "8f1eaebe-292b-4d96-8189-9375092d0331",
   "metadata": {},
   "outputs": [
    {
     "data": {
      "text/plain": [
       "array([1, 0], dtype=int64)"
      ]
     },
     "execution_count": 101,
     "metadata": {},
     "output_type": "execute_result"
    }
   ],
   "source": [
    "# replace the HOF values from 2 to 1 for clarity\n",
    "\n",
    "df[\"HOF\"] = df[\"HOF\"].replace(2, 1)\n",
    "df[\"HOF\"].unique()"
   ]
  },
  {
   "cell_type": "code",
   "execution_count": 102,
   "id": "42921dce-2b2f-4896-a379-c1d624ab8bb9",
   "metadata": {},
   "outputs": [],
   "source": [
    "# Clean the data - drop not important columns\n",
    "df = df.drop(columns = [\"PLAYER\", \"CS\"])"
   ]
  },
  {
   "cell_type": "code",
   "execution_count": 103,
   "id": "76b639f9-f673-49aa-8c65-70025ff7138f",
   "metadata": {},
   "outputs": [
    {
     "name": "stdout",
     "output_type": "stream",
     "text": [
      "     YRS     G     AB     R     H   2B   3B   HR   RBI    BB    SO   SB     BA\n",
      "0     24  3035  11434  2246  4189  724  295  117   726  1249   357  892  0.366\n",
      "1     22  3026  10972  1949  3630  725  177  475  1951  1599   696   78  0.331\n",
      "2     22  2789  10195  1882  3514  792  222  117   724  1381   220  432  0.345\n",
      "3     20  2747  11195  1923  3465  544   66  260  1311  1082  1840  358  0.310\n",
      "4     21  2792  10430  1736  3430  640  252  101     0   963   327  722  0.329\n",
      "..   ...   ...    ...   ...   ...  ...  ...  ...   ...   ...   ...  ...    ...\n",
      "460   15  1920   6653  1105  1665  285   39  291   964  1224  1427  225  0.250\n",
      "461   17  1829   6092   900  1664  379   10  275  1065   936  1453   20  0.273\n",
      "462   15  1834   6499  1062  1661  338   67  210   761   960  1190  315  0.256\n",
      "463   16  1822   6309   714  1660  254   25   54   593   396   489   74  0.263\n",
      "464   15  1468   5629   785  1660  247   71   61   499   266   471  267  0.295\n",
      "\n",
      "[465 rows x 13 columns]\n",
      "0      1\n",
      "1      1\n",
      "2      1\n",
      "3      1\n",
      "4      1\n",
      "      ..\n",
      "460    0\n",
      "461    0\n",
      "462    0\n",
      "463    0\n",
      "464    0\n",
      "Name: HOF, Length: 465, dtype: int64\n"
     ]
    }
   ],
   "source": [
    "# splitting the data into X/y test and train by arranging the data\n",
    "\n",
    "# train columns\n",
    "X = df[['YRS', 'G', 'AB', 'R', 'H', '2B', '3B', 'HR', 'RBI', 'BB', 'SO', 'SB','BA']]\n",
    "print(X)\n",
    "\n",
    "# target column\n",
    "y = df[\"HOF\"]\n",
    "print(y)\n",
    "# Splitting the columns into train and test \n",
    "\n",
    "X_train, X_test, y_train, y_test = train_test_split(X, y, random_state = 10, test_size = 0.2)\n",
    "#X_train.shape"
   ]
  },
  {
   "cell_type": "code",
   "execution_count": 104,
   "id": "129ca07c-fa9f-47ed-9e81-f9bb17e54cde",
   "metadata": {},
   "outputs": [
    {
     "data": {
      "text/plain": [
       "array([0, 1], dtype=int64)"
      ]
     },
     "execution_count": 104,
     "metadata": {},
     "output_type": "execute_result"
    }
   ],
   "source": [
    "y_test.unique()"
   ]
  },
  {
   "cell_type": "code",
   "execution_count": 105,
   "id": "7aad81e9-a81f-43a5-9746-eb863b7823d8",
   "metadata": {},
   "outputs": [
    {
     "name": "stdout",
     "output_type": "stream",
     "text": [
      "[0 1 0 0 0 1 0 0 0 0 0 0 0 1 0 0 0 1 1 0 0 1 0 1 1 0 0 0 0 0 0 1 0 0 0 0 0\n",
      " 1 0 0 0 0 0 1 0 0 0 1 0 1 0 0 0 0 0 0 1 1 0 1 0 0 0 0 1 0 0 0 0 1 0 0 1 0\n",
      " 0 0 0 0 1 1 1 1 1 0 1 0 0 1 0 0 0 0 0] \n",
      "\n",
      " The score for the accuracy of prediction from the model is about 80.64516129032258%\n"
     ]
    }
   ],
   "source": [
    "# Scalling the data\n",
    "\n",
    "scaleMinMax = MinMaxScaler(feature_range = (0, 1))\n",
    "X_train = scaleMinMax.fit_transform(X_train)\n",
    "X_test = scaleMinMax.fit_transform(X_test)\n",
    "\n",
    "# Runing the knn predictive model\n",
    "knn = KNeighborsClassifier(n_neighbors = 8)\n",
    "knn.fit(X_train, y_train)\n",
    "\n",
    "# locate the prediction of HOF\n",
    "y_pred = knn.predict(X_test)\n",
    "print(y_pred, \"\\n\") \n",
    "\n",
    "# Checking the score of accuracy\n",
    "\n",
    "knn_score = knn.score(X_test, y_test) * 100\n",
    "print(f\" The score for the accuracy of prediction from the model is about {knn_score}%\")"
   ]
  },
  {
   "cell_type": "code",
   "execution_count": 106,
   "id": "9989f429-50f9-48cd-8f25-a0f880d56dc5",
   "metadata": {},
   "outputs": [
    {
     "data": {
      "text/plain": [
       "array([[55,  6],\n",
       "       [12, 20]], dtype=int64)"
      ]
     },
     "execution_count": 106,
     "metadata": {},
     "output_type": "execute_result"
    }
   ],
   "source": [
    "# Confusion Matrix\n",
    "cm = confusion_matrix(y_test, y_pred)\n",
    "cm"
   ]
  },
  {
   "cell_type": "markdown",
   "id": "badce8a4-edb5-4402-8416-253cb729eeec",
   "metadata": {},
   "source": [
    "| Actual/Predicted  | Predicted Not HOF (0)     | Predicted HOF (1)      |\r\n",
    "|-------------------|---------------------------|-------------------------|\r\n",
    "| Actual Not HOF (0) | True Negatives (TN) = 55 | False Positives (FP) = 6|\r\n",
    "| Actual HOF (1)     | False Negatives (FN) = 12| True Positives (TP) = \n",
    "\n",
    "**Interpretation**\n",
    "- True Negatives (TN):\n",
    "  Count: 55 - Meaning: The model correctly predicted 55 individuals as not being in the Hall of Fame, and they indeed are not.\n",
    "\n",
    "- False Positives (FP):\n",
    "  Count: 6 - Meaning: The model predicted 6 individuals as Hall of Fame, but they are not.\n",
    "\n",
    "- False Negatives (FN):\n",
    "  Count: 12 - Meaning: The model predicted 12 individuals as not being in the Hall of Fame, but they actually are.\n",
    "\n",
    "- True Positives (TP):\n",
    "  Count: 20 - Meaning: The model correctly predicted 20 individuals as Hall of Fame, and they indeed are.20|\r\n"
   ]
  },
  {
   "cell_type": "code",
   "execution_count": 107,
   "id": "bdc41f02-1320-4818-9af1-3ebd540ca1ea",
   "metadata": {},
   "outputs": [
    {
     "name": "stdout",
     "output_type": "stream",
     "text": [
      "Unique classes in y_test: {0, 1}\n",
      "Unique classes in y_pred: {0, 1}\n"
     ]
    }
   ],
   "source": [
    "# Check Unique Classes in y_test and y_pred\n",
    "print(\"Unique classes in y_test:\", set(y_test))\n",
    "print(\"Unique classes in y_pred:\", set(y_pred))"
   ]
  },
  {
   "cell_type": "code",
   "execution_count": 108,
   "id": "ab3c5ef0-41d1-447c-a37e-19f24a6def62",
   "metadata": {},
   "outputs": [
    {
     "name": "stdout",
     "output_type": "stream",
     "text": [
      "              precision    recall  f1-score   support\n",
      "\n",
      "           0       0.82      0.90      0.86        61\n",
      "           1       0.77      0.62      0.69        32\n",
      "\n",
      "    accuracy                           0.81        93\n",
      "   macro avg       0.80      0.76      0.77        93\n",
      "weighted avg       0.80      0.81      0.80        93\n",
      "\n"
     ]
    }
   ],
   "source": [
    "# Classification Report\n",
    "\n",
    "cr = classification_report(y_test, y_pred)\n",
    "print(cr)"
   ]
  },
  {
   "cell_type": "code",
   "execution_count": null,
   "id": "0c3155d9-b80a-4771-b44f-5e8605b5d578",
   "metadata": {},
   "outputs": [],
   "source": []
  },
  {
   "cell_type": "code",
   "execution_count": null,
   "id": "8f7d6924-7de3-4694-aeef-9293356606c6",
   "metadata": {},
   "outputs": [],
   "source": []
  },
  {
   "cell_type": "code",
   "execution_count": null,
   "id": "ceb408dd-3344-46e8-aa39-38c2d3e3a695",
   "metadata": {},
   "outputs": [],
   "source": []
  },
  {
   "cell_type": "code",
   "execution_count": null,
   "id": "fea35af8-c711-4155-8383-0e9cc487a24c",
   "metadata": {},
   "outputs": [],
   "source": []
  },
  {
   "cell_type": "code",
   "execution_count": null,
   "id": "aaea6135-5dc7-43c6-b9b1-a818b104f28e",
   "metadata": {},
   "outputs": [],
   "source": []
  }
 ],
 "metadata": {
  "kernelspec": {
   "display_name": "Python 3 (ipykernel)",
   "language": "python",
   "name": "python3"
  },
  "language_info": {
   "codemirror_mode": {
    "name": "ipython",
    "version": 3
   },
   "file_extension": ".py",
   "mimetype": "text/x-python",
   "name": "python",
   "nbconvert_exporter": "python",
   "pygments_lexer": "ipython3",
   "version": "3.11.7"
  }
 },
 "nbformat": 4,
 "nbformat_minor": 5
}
