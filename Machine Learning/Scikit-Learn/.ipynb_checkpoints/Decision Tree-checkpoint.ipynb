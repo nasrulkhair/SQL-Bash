{
 "cells": [
  {
   "cell_type": "markdown",
   "id": "a057b539-5d65-4357-8905-b6065569ee0b",
   "metadata": {},
   "source": [
    "## Decision Tree\n",
    "\n",
    "- A supervised learning algorith used for classification and regression tasks.\n",
    "- It works by splitting the data into subset based on the value of input features, creating a tree-like structure of decisions\n",
    "  \n",
    "  1. Tree Structure:\n",
    "     - Root Node: The starting point that represents the entire dataset\n",
    "     - Decison Nodes: Intermediate nodes where data is split based on a feature\n",
    "     - Leaf Nodes: Finals ndes that represent the output or decision (eg: class label, or a numerical label)\n",
    "  2. Splitting Criteria: A decision tree divides data at each node based on certain criteria to minimize uncertainty\n",
    "  3. Flow of decisions: Each data point is evaluated by traversing the tree from the root node to a leaf node based on feature values and splitting rules.\n",
    " \n",
    "<div style = \"text-align: center;\">\n",
    "    <img src = \"https://viso.ai/wp-content/smush-webp/2024/04/Visual-Representation-1-1060x596.png.webp\" alt = \"d_tree\" width = 450/>\n",
    "</div>"
   ]
  },
  {
   "cell_type": "code",
   "execution_count": 18,
   "id": "c4dec36d-452c-4139-accc-bfe9ce581fcf",
   "metadata": {},
   "outputs": [
    {
     "data": {
      "text/html": [
       "<div>\n",
       "<style scoped>\n",
       "    .dataframe tbody tr th:only-of-type {\n",
       "        vertical-align: middle;\n",
       "    }\n",
       "\n",
       "    .dataframe tbody tr th {\n",
       "        vertical-align: top;\n",
       "    }\n",
       "\n",
       "    .dataframe thead th {\n",
       "        text-align: right;\n",
       "    }\n",
       "</style>\n",
       "<table border=\"1\" class=\"dataframe\">\n",
       "  <thead>\n",
       "    <tr style=\"text-align: right;\">\n",
       "      <th></th>\n",
       "      <th>PLAYER</th>\n",
       "      <th>YRS</th>\n",
       "      <th>G</th>\n",
       "      <th>AB</th>\n",
       "      <th>R</th>\n",
       "      <th>H</th>\n",
       "      <th>2B</th>\n",
       "      <th>3B</th>\n",
       "      <th>HR</th>\n",
       "      <th>RBI</th>\n",
       "      <th>BB</th>\n",
       "      <th>SO</th>\n",
       "      <th>SB</th>\n",
       "      <th>CS</th>\n",
       "      <th>BA</th>\n",
       "      <th>HOF</th>\n",
       "    </tr>\n",
       "  </thead>\n",
       "  <tbody>\n",
       "    <tr>\n",
       "      <th>0</th>\n",
       "      <td>Ty Cobb</td>\n",
       "      <td>24</td>\n",
       "      <td>3035</td>\n",
       "      <td>11434</td>\n",
       "      <td>2246</td>\n",
       "      <td>4189</td>\n",
       "      <td>724</td>\n",
       "      <td>295</td>\n",
       "      <td>117</td>\n",
       "      <td>726</td>\n",
       "      <td>1249</td>\n",
       "      <td>357</td>\n",
       "      <td>892</td>\n",
       "      <td>178</td>\n",
       "      <td>0.366</td>\n",
       "      <td>1</td>\n",
       "    </tr>\n",
       "    <tr>\n",
       "      <th>1</th>\n",
       "      <td>Stan Musial</td>\n",
       "      <td>22</td>\n",
       "      <td>3026</td>\n",
       "      <td>10972</td>\n",
       "      <td>1949</td>\n",
       "      <td>3630</td>\n",
       "      <td>725</td>\n",
       "      <td>177</td>\n",
       "      <td>475</td>\n",
       "      <td>1951</td>\n",
       "      <td>1599</td>\n",
       "      <td>696</td>\n",
       "      <td>78</td>\n",
       "      <td>31</td>\n",
       "      <td>0.331</td>\n",
       "      <td>1</td>\n",
       "    </tr>\n",
       "    <tr>\n",
       "      <th>2</th>\n",
       "      <td>Tris Speaker</td>\n",
       "      <td>22</td>\n",
       "      <td>2789</td>\n",
       "      <td>10195</td>\n",
       "      <td>1882</td>\n",
       "      <td>3514</td>\n",
       "      <td>792</td>\n",
       "      <td>222</td>\n",
       "      <td>117</td>\n",
       "      <td>724</td>\n",
       "      <td>1381</td>\n",
       "      <td>220</td>\n",
       "      <td>432</td>\n",
       "      <td>129</td>\n",
       "      <td>0.345</td>\n",
       "      <td>1</td>\n",
       "    </tr>\n",
       "    <tr>\n",
       "      <th>3</th>\n",
       "      <td>Derek Jeter</td>\n",
       "      <td>20</td>\n",
       "      <td>2747</td>\n",
       "      <td>11195</td>\n",
       "      <td>1923</td>\n",
       "      <td>3465</td>\n",
       "      <td>544</td>\n",
       "      <td>66</td>\n",
       "      <td>260</td>\n",
       "      <td>1311</td>\n",
       "      <td>1082</td>\n",
       "      <td>1840</td>\n",
       "      <td>358</td>\n",
       "      <td>97</td>\n",
       "      <td>0.310</td>\n",
       "      <td>1</td>\n",
       "    </tr>\n",
       "    <tr>\n",
       "      <th>4</th>\n",
       "      <td>Honus Wagner</td>\n",
       "      <td>21</td>\n",
       "      <td>2792</td>\n",
       "      <td>10430</td>\n",
       "      <td>1736</td>\n",
       "      <td>3430</td>\n",
       "      <td>640</td>\n",
       "      <td>252</td>\n",
       "      <td>101</td>\n",
       "      <td>0</td>\n",
       "      <td>963</td>\n",
       "      <td>327</td>\n",
       "      <td>722</td>\n",
       "      <td>15</td>\n",
       "      <td>0.329</td>\n",
       "      <td>1</td>\n",
       "    </tr>\n",
       "  </tbody>\n",
       "</table>\n",
       "</div>"
      ],
      "text/plain": [
       "         PLAYER  YRS     G     AB     R     H   2B   3B   HR   RBI    BB  \\\n",
       "0       Ty Cobb   24  3035  11434  2246  4189  724  295  117   726  1249   \n",
       "1   Stan Musial   22  3026  10972  1949  3630  725  177  475  1951  1599   \n",
       "2  Tris Speaker   22  2789  10195  1882  3514  792  222  117   724  1381   \n",
       "3   Derek Jeter   20  2747  11195  1923  3465  544   66  260  1311  1082   \n",
       "4  Honus Wagner   21  2792  10430  1736  3430  640  252  101     0   963   \n",
       "\n",
       "     SO   SB   CS     BA  HOF  \n",
       "0   357  892  178  0.366    1  \n",
       "1   696   78   31  0.331    1  \n",
       "2   220  432  129  0.345    1  \n",
       "3  1840  358   97  0.310    1  \n",
       "4   327  722   15  0.329    1  "
      ]
     },
     "execution_count": 18,
     "metadata": {},
     "output_type": "execute_result"
    }
   ],
   "source": [
    "# Importing libraries\n",
    "import pandas as pd\n",
    "\n",
    "df = pd.read_csv(\"500hits.csv\", encoding = \"latin-1\")\n",
    "df.head()"
   ]
  },
  {
   "cell_type": "code",
   "execution_count": 19,
   "id": "4395ab80-53d5-4355-91c0-19a6bc32504b",
   "metadata": {},
   "outputs": [
    {
     "data": {
      "text/plain": [
       "array([1, 0], dtype=int64)"
      ]
     },
     "execution_count": 19,
     "metadata": {},
     "output_type": "execute_result"
    }
   ],
   "source": [
    "# cleaning the data since HOF - have unique: 2 by dropping the column\n",
    "\n",
    "df[\"HOF\"].unique()\n",
    "\n",
    "# locating the index\n",
    "df[df[\"HOF\"] == 2]\n",
    "\n",
    "df.drop(index = 160, inplace = True)\n",
    "\n",
    "# re-checking the unique value - 2\n",
    "df[\"HOF\"].unique()"
   ]
  },
  {
   "cell_type": "code",
   "execution_count": 20,
   "id": "87f9b753-b8c3-4fc5-bd53-b64dedbfba4b",
   "metadata": {},
   "outputs": [
    {
     "data": {
      "text/plain": [
       "(464, 14)"
      ]
     },
     "execution_count": 20,
     "metadata": {},
     "output_type": "execute_result"
    }
   ],
   "source": [
    "# Step 1: Dropping the unwanted column\n",
    "\n",
    "df = df.drop(columns = [\"PLAYER\", \"CS\"])\n",
    "df.shape"
   ]
  },
  {
   "cell_type": "code",
   "execution_count": 15,
   "id": "9232fb4b-c0d4-4461-8e38-5606feb5e52e",
   "metadata": {},
   "outputs": [
    {
     "name": "stdout",
     "output_type": "stream",
     "text": [
      "     YRS     G     AB     R     H   2B   3B   HR   RBI    BB    SO   SB     BA\n",
      "0     24  3035  11434  2246  4189  724  295  117   726  1249   357  892  0.366\n",
      "1     22  3026  10972  1949  3630  725  177  475  1951  1599   696   78  0.331\n",
      "2     22  2789  10195  1882  3514  792  222  117   724  1381   220  432  0.345\n",
      "3     20  2747  11195  1923  3465  544   66  260  1311  1082  1840  358  0.310\n",
      "4     21  2792  10430  1736  3430  640  252  101     0   963   327  722  0.329\n",
      "..   ...   ...    ...   ...   ...  ...  ...  ...   ...   ...   ...  ...    ...\n",
      "460   15  1920   6653  1105  1665  285   39  291   964  1224  1427  225  0.250\n",
      "461   17  1829   6092   900  1664  379   10  275  1065   936  1453   20  0.273\n",
      "462   15  1834   6499  1062  1661  338   67  210   761   960  1190  315  0.256\n",
      "463   16  1822   6309   714  1660  254   25   54   593   396   489   74  0.263\n",
      "464   15  1468   5629   785  1660  247   71   61   499   266   471  267  0.295\n",
      "\n",
      "[464 rows x 13 columns]\n",
      "0      1\n",
      "1      1\n",
      "2      1\n",
      "3      1\n",
      "4      1\n",
      "      ..\n",
      "460    0\n",
      "461    0\n",
      "462    0\n",
      "463    0\n",
      "464    0\n",
      "Name: HOF, Length: 464, dtype: int64\n"
     ]
    }
   ],
   "source": [
    "# Step 2: Splitting the data into X and y for model training and target\n",
    "X = df.iloc[:, 0:13]\n",
    "print(X)\n",
    "y = df.iloc[:, 13]\n",
    "print(y)"
   ]
  },
  {
   "cell_type": "code",
   "execution_count": 22,
   "id": "7da60a6a-fc03-4faf-9805-1930822b5f33",
   "metadata": {},
   "outputs": [
    {
     "name": "stdout",
     "output_type": "stream",
     "text": [
      "(371, 13)\n",
      "(93, 13)\n",
      "(371,)\n",
      "(93,)\n"
     ]
    }
   ],
   "source": [
    "# Step 3: Apply the train_test_split method to split the data into train and test\n",
    "\n",
    "from sklearn.model_selection import train_test_split\n",
    "\n",
    "X_train, X_test, y_train, y_test = train_test_split(X, y, random_state = 12, test_size = 0.2)\n",
    "\n",
    "# checking the sahpe for each sets\n",
    "print(X_train.shape)\n",
    "print(X_test.shape)\n",
    "print(y_train.shape)\n",
    "print(y_test.shape)\n"
   ]
  },
  {
   "cell_type": "code",
   "execution_count": 35,
   "id": "550d82f6-d0b6-497e-8535-222f578d296b",
   "metadata": {},
   "outputs": [
    {
     "name": "stdout",
     "output_type": "stream",
     "text": [
      "The y prediction of column HOF: \n",
      " [0 0 0 0 0 0 0 1 0 0 0 0 0 0 0 0 0 0 0 0 0 0 0 1 0 0 1 0 1 0 1 0 0 1 0 0 0\n",
      " 0 0 1 1 0 0 0 1 0 0 1 0 0 0 0 0 0 1 1 0 1 0 1 0 0 0 1 0 1 0 1 1 1 0 1 0 1\n",
      " 0 0 0 0 1 0 0 0 0 0 0 0 0 0 0 0 0 1 0]\n",
      "The confusion matrix: \n",
      " [[53  8]\n",
      " [17 15]]\n"
     ]
    }
   ],
   "source": [
    "# Step 4: training the model\n",
    "\n",
    "from sklearn.tree import DecisionTreeClassifier\n",
    "\n",
    "dtc = DecisionTreeClassifier()\n",
    "\n",
    "# fit the data into the model\n",
    "dtc.fit(X_train, y_train)\n",
    "\n",
    "# Get the prediction from the Decision Tree\n",
    "y_pred = dtc.predict(X_test)\n",
    "print(\"The y prediction of column HOF:\", \"\\n\", y_pred)\n",
    "\n",
    "# Confusion Matrix - to check how good the model is\n",
    "from sklearn.metrics import confusion_matrix\n",
    "\n",
    "cm = confusion_matrix(y_test, y_pred)\n",
    "print(\"The confusion matrix:\", \"\\n\", cm)"
   ]
  },
  {
   "cell_type": "markdown",
   "id": "7001c9a0-2def-4630-b374-b34eff6ba532",
   "metadata": {},
   "source": [
    "### Confusion Matrix:\n",
    "\n",
    "| **Actual/Predicted**              | **Predicted Not HOF (0)** | **Predicted HOF (1)** |\n",
    "|-----------------------------------|---------------------------|-----------------------|\n",
    "| **Actual Not HOF (0)**            | True Negatives (TN) = 53  | False Positives (FP) = 8 |\n",
    "| **Actual HOF (1)**                | False Negatives (FN) = 18 | True Positives (TP) = 14 |\n",
    "\n",
    "- **True Negatives (TN)** = 53: 53 instances of class 0 were correctly predicted as class 0.\n",
    "- **False Positives (FP)** = 8: 8 instances of class 0 were incorrectly predicted as class 1.\n",
    "- **False Negatives (FN)** = 18: 18 instances of class 1 were incorrectly predicted as class 0.\n",
    "- **True Positives (TP)** = 14: 14 instances of class 1 were correctly predicted as class 1."
   ]
  },
  {
   "cell_type": "code",
   "execution_count": 28,
   "id": "84911565-5c5d-4973-b908-c4a4cb706783",
   "metadata": {},
   "outputs": [
    {
     "data": {
      "text/plain": [
       "{'ccp_alpha': 0.0,\n",
       " 'class_weight': None,\n",
       " 'criterion': 'gini',\n",
       " 'max_depth': None,\n",
       " 'max_features': None,\n",
       " 'max_leaf_nodes': None,\n",
       " 'min_impurity_decrease': 0.0,\n",
       " 'min_samples_leaf': 1,\n",
       " 'min_samples_split': 2,\n",
       " 'min_weight_fraction_leaf': 0.0,\n",
       " 'monotonic_cst': None,\n",
       " 'random_state': None,\n",
       " 'splitter': 'best'}"
      ]
     },
     "execution_count": 28,
     "metadata": {},
     "output_type": "execute_result"
    }
   ],
   "source": [
    "# to check the list of parameters available for DecissionTreeClassifier\n",
    "dtc.get_params()"
   ]
  },
  {
   "cell_type": "code",
   "execution_count": 39,
   "id": "ea106b91-248c-43f6-817d-cc1ff0159063",
   "metadata": {},
   "outputs": [
    {
     "data": {
      "text/html": [
       "<div>\n",
       "<style scoped>\n",
       "    .dataframe tbody tr th:only-of-type {\n",
       "        vertical-align: middle;\n",
       "    }\n",
       "\n",
       "    .dataframe tbody tr th {\n",
       "        vertical-align: top;\n",
       "    }\n",
       "\n",
       "    .dataframe thead th {\n",
       "        text-align: right;\n",
       "    }\n",
       "</style>\n",
       "<table border=\"1\" class=\"dataframe\">\n",
       "  <thead>\n",
       "    <tr style=\"text-align: right;\">\n",
       "      <th></th>\n",
       "      <th>0</th>\n",
       "    </tr>\n",
       "  </thead>\n",
       "  <tbody>\n",
       "    <tr>\n",
       "      <th>YRS</th>\n",
       "      <td>0.000000</td>\n",
       "    </tr>\n",
       "    <tr>\n",
       "      <th>G</th>\n",
       "      <td>0.037569</td>\n",
       "    </tr>\n",
       "    <tr>\n",
       "      <th>AB</th>\n",
       "      <td>0.042290</td>\n",
       "    </tr>\n",
       "    <tr>\n",
       "      <th>R</th>\n",
       "      <td>0.048241</td>\n",
       "    </tr>\n",
       "    <tr>\n",
       "      <th>H</th>\n",
       "      <td>0.111199</td>\n",
       "    </tr>\n",
       "    <tr>\n",
       "      <th>2B</th>\n",
       "      <td>0.057558</td>\n",
       "    </tr>\n",
       "    <tr>\n",
       "      <th>3B</th>\n",
       "      <td>0.045867</td>\n",
       "    </tr>\n",
       "    <tr>\n",
       "      <th>HR</th>\n",
       "      <td>0.175999</td>\n",
       "    </tr>\n",
       "    <tr>\n",
       "      <th>RBI</th>\n",
       "      <td>0.077892</td>\n",
       "    </tr>\n",
       "    <tr>\n",
       "      <th>BB</th>\n",
       "      <td>0.019686</td>\n",
       "    </tr>\n",
       "    <tr>\n",
       "      <th>SO</th>\n",
       "      <td>0.047762</td>\n",
       "    </tr>\n",
       "    <tr>\n",
       "      <th>SB</th>\n",
       "      <td>0.071879</td>\n",
       "    </tr>\n",
       "    <tr>\n",
       "      <th>BA</th>\n",
       "      <td>0.264059</td>\n",
       "    </tr>\n",
       "  </tbody>\n",
       "</table>\n",
       "</div>"
      ],
      "text/plain": [
       "            0\n",
       "YRS  0.000000\n",
       "G    0.037569\n",
       "AB   0.042290\n",
       "R    0.048241\n",
       "H    0.111199\n",
       "2B   0.057558\n",
       "3B   0.045867\n",
       "HR   0.175999\n",
       "RBI  0.077892\n",
       "BB   0.019686\n",
       "SO   0.047762\n",
       "SB   0.071879\n",
       "BA   0.264059"
      ]
     },
     "execution_count": 39,
     "metadata": {},
     "output_type": "execute_result"
    }
   ],
   "source": [
    "# To check what has the biggest impact on our model\n",
    "dtc.feature_importances_\n",
    "\n",
    "features_df = pd.DataFrame(dtc.feature_importances_, index = X.columns)\n",
    "features_df\n",
    "\n",
    "# note: hits has the highest impact, make sense"
   ]
  },
  {
   "cell_type": "code",
   "execution_count": 42,
   "id": "06b6c768-a504-45f9-9e41-51730db8581d",
   "metadata": {},
   "outputs": [
    {
     "name": "stdout",
     "output_type": "stream",
     "text": [
      "The y prediction by using diff parameters of column HOF: \n",
      " [1 0 0 0 0 1 0 1 0 0 0 1 1 0 0 0 0 0 0 1 0 0 0 1 0 0 1 0 1 0 1 0 0 1 0 0 0\n",
      " 0 0 0 1 0 0 1 1 0 1 1 1 0 0 0 0 0 0 0 0 0 0 1 0 0 1 1 1 0 0 1 1 1 0 1 0 1\n",
      " 1 0 0 0 1 1 0 0 1 1 0 0 0 0 0 0 0 0 0]\n",
      "The confusion matrix: \n",
      " [[55  6]\n",
      " [ 7 25]]\n"
     ]
    }
   ],
   "source": [
    "# Trying different parameters\n",
    "\n",
    "dtc2 = DecisionTreeClassifier(criterion = \"entropy\", ccp_alpha = 0.04)\n",
    "\n",
    "dtc2.fit(X_train, y_train)\n",
    "\n",
    "y_pred_2 = dtc2.predict(X_test)\n",
    "print(\"The y prediction by using diff parameters of column HOF:\", \"\\n\", y_pred_2)\n",
    "\n",
    "cm2 = confusion_matrix(y_test, y_pred_2)\n",
    "print(\"The confusion matrix:\", \"\\n\", cm2)\n",
    "\n"
   ]
  },
  {
   "cell_type": "code",
   "execution_count": null,
   "id": "f6faad39-c323-4802-8a17-9a49eaa11638",
   "metadata": {},
   "outputs": [],
   "source": []
  },
  {
   "cell_type": "code",
   "execution_count": null,
   "id": "8213a897-bf6e-4f24-ad5d-7b1e87436dc7",
   "metadata": {},
   "outputs": [],
   "source": []
  },
  {
   "cell_type": "code",
   "execution_count": null,
   "id": "e8d463d6-e652-446e-89cb-80187c6d9fb1",
   "metadata": {},
   "outputs": [],
   "source": []
  },
  {
   "cell_type": "code",
   "execution_count": null,
   "id": "8c259072-1287-46b2-b139-f8ce424f06f8",
   "metadata": {},
   "outputs": [],
   "source": []
  }
 ],
 "metadata": {
  "kernelspec": {
   "display_name": "Python 3 (ipykernel)",
   "language": "python",
   "name": "python3"
  },
  "language_info": {
   "codemirror_mode": {
    "name": "ipython",
    "version": 3
   },
   "file_extension": ".py",
   "mimetype": "text/x-python",
   "name": "python",
   "nbconvert_exporter": "python",
   "pygments_lexer": "ipython3",
   "version": "3.11.7"
  }
 },
 "nbformat": 4,
 "nbformat_minor": 5
}
