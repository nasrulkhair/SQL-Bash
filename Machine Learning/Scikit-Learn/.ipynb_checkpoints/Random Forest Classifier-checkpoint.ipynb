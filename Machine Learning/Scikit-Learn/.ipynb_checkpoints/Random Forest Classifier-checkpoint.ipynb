{
 "cells": [
  {
   "cell_type": "markdown",
   "id": "f9f265fc-3a31-4838-a882-6f68f0552db7",
   "metadata": {},
   "source": [
    "### Random Forest\n",
    "\n",
    "- a supervised Machine Learning algorithm used for classification, regression and other tasks using decision tree\n",
    "- Random Forest are particularly well -suited for handling large and complex datasets, dealing with high-dimensional feature spaces, and providing insights into feature importance.\n",
    "\n",
    "**Random Forest Classifier**\n",
    "- creates a set of decision trees from a randomly selected subset of the training set.\n",
    "- Itis a set of Decision Tree (DT) from a random;y selected subset of the training set and then it collects the votes from different decision tress to decide the final prediction\n",
    "\n",
    "<div style = \"text-align: center;\">\n",
    "    <img src = \"https://media.geeksforgeeks.org/wp-content/uploads/20240130162938/random.webp\" alt = \"rft\" width = 450 />\n",
    "</div>"
   ]
  },
  {
   "cell_type": "markdown",
   "id": "ff76ccb4-f767-4d3a-8487-a9cf92125bd0",
   "metadata": {},
   "source": [
    "**Random Forest Classifier in Machine Learning**"
   ]
  },
  {
   "cell_type": "code",
   "execution_count": 27,
   "id": "72ef7f20-f1b3-4a3a-97fe-cadbe9f34f4e",
   "metadata": {},
   "outputs": [
    {
     "name": "stdout",
     "output_type": "stream",
     "text": [
      "<class 'sklearn.utils._bunch.Bunch'>\n"
     ]
    }
   ],
   "source": [
    "# Step 1: Loading dataset\n",
    "\n",
    "# importing required libraries\n",
    "import pandas as pd\n",
    "from sklearn import datasets\n",
    "from sklearn.ensemble import RandomForestClassifier\n",
    "from sklearn.metrics import accuracy_score\n",
    "# Loading the iris plants dataset (classification)\n",
    "\n",
    "iris = datasets.load_iris()\n",
    "print(type(iris))"
   ]
  },
  {
   "cell_type": "code",
   "execution_count": 18,
   "id": "47ce624e-404d-4ad2-b800-3e041c96e03d",
   "metadata": {},
   "outputs": [
    {
     "name": "stdout",
     "output_type": "stream",
     "text": [
      "['setosa' 'versicolor' 'virginica']\n",
      "['sepal length (cm)', 'sepal width (cm)', 'petal length (cm)', 'petal width (cm)'] \n",
      "\n",
      "\n"
     ]
    },
    {
     "data": {
      "text/html": [
       "<div>\n",
       "<style scoped>\n",
       "    .dataframe tbody tr th:only-of-type {\n",
       "        vertical-align: middle;\n",
       "    }\n",
       "\n",
       "    .dataframe tbody tr th {\n",
       "        vertical-align: top;\n",
       "    }\n",
       "\n",
       "    .dataframe thead th {\n",
       "        text-align: right;\n",
       "    }\n",
       "</style>\n",
       "<table border=\"1\" class=\"dataframe\">\n",
       "  <thead>\n",
       "    <tr style=\"text-align: right;\">\n",
       "      <th></th>\n",
       "      <th>sepallength</th>\n",
       "      <th>sepalwidth</th>\n",
       "      <th>petallength</th>\n",
       "      <th>petalwidth</th>\n",
       "      <th>species</th>\n",
       "    </tr>\n",
       "  </thead>\n",
       "  <tbody>\n",
       "    <tr>\n",
       "      <th>0</th>\n",
       "      <td>5.1</td>\n",
       "      <td>3.5</td>\n",
       "      <td>1.4</td>\n",
       "      <td>0.2</td>\n",
       "      <td>0</td>\n",
       "    </tr>\n",
       "    <tr>\n",
       "      <th>1</th>\n",
       "      <td>4.9</td>\n",
       "      <td>3.0</td>\n",
       "      <td>1.4</td>\n",
       "      <td>0.2</td>\n",
       "      <td>0</td>\n",
       "    </tr>\n",
       "    <tr>\n",
       "      <th>2</th>\n",
       "      <td>4.7</td>\n",
       "      <td>3.2</td>\n",
       "      <td>1.3</td>\n",
       "      <td>0.2</td>\n",
       "      <td>0</td>\n",
       "    </tr>\n",
       "    <tr>\n",
       "      <th>3</th>\n",
       "      <td>4.6</td>\n",
       "      <td>3.1</td>\n",
       "      <td>1.5</td>\n",
       "      <td>0.2</td>\n",
       "      <td>0</td>\n",
       "    </tr>\n",
       "    <tr>\n",
       "      <th>4</th>\n",
       "      <td>5.0</td>\n",
       "      <td>3.6</td>\n",
       "      <td>1.4</td>\n",
       "      <td>0.2</td>\n",
       "      <td>0</td>\n",
       "    </tr>\n",
       "  </tbody>\n",
       "</table>\n",
       "</div>"
      ],
      "text/plain": [
       "   sepallength  sepalwidth  petallength  petalwidth  species\n",
       "0          5.1         3.5          1.4         0.2        0\n",
       "1          4.9         3.0          1.4         0.2        0\n",
       "2          4.7         3.2          1.3         0.2        0\n",
       "3          4.6         3.1          1.5         0.2        0\n",
       "4          5.0         3.6          1.4         0.2        0"
      ]
     },
     "execution_count": 18,
     "metadata": {},
     "output_type": "execute_result"
    }
   ],
   "source": [
    "# Step 2: Checking dataset content and features name present in it\n",
    "print(iris[\"target_names\"])\n",
    "print(iris[\"feature_names\"], \"\\n\\n\")\n",
    "\n",
    "# create dataframe of IRIS dataset\n",
    "data = pd.DataFrame({\n",
    "    'sepallength': iris.data[:, 0], \n",
    "    'sepalwidth': iris.data[:, 1],\n",
    "    'petallength': iris.data[:, 2], \n",
    "    'petalwidth': iris.data[:, 3],\n",
    "    'species': iris.target})\n",
    "\n",
    "data.head()"
   ]
  },
  {
   "cell_type": "code",
   "execution_count": 21,
   "id": "fe72df47-65f5-46f2-acd5-9269e3a1fdde",
   "metadata": {},
   "outputs": [
    {
     "name": "stdout",
     "output_type": "stream",
     "text": [
      "The shape of X_train: (105, 4)\n",
      "The shape of X_test: (45, 4)\n",
      "The shape of y_train: (105,)\n",
      "The shape of X_test: (45,)\n"
     ]
    }
   ],
   "source": [
    "# Step 3: Train Test Split\n",
    "# i.e. 70 % training dataset and 30 % test datasets\n",
    "from sklearn.model_selection import train_test_split\n",
    "X_train, X_test, y_train, y_test = train_test_split(X, y, test_size = 0.30)\n",
    "\n",
    "print(\"The shape of X_train:\", X_train.shape)\n",
    "print(\"The shape of X_test:\", X_test.shape)\n",
    "print(\"The shape of y_train:\", y_train.shape)\n",
    "print(\"The shape of X_test:\", y_test.shape)"
   ]
  },
  {
   "cell_type": "code",
   "execution_count": 31,
   "id": "e3cc0df1-7002-4576-8c49-77e559cee5aa",
   "metadata": {},
   "outputs": [
    {
     "name": "stdout",
     "output_type": "stream",
     "text": [
      "The prediction from the trained model is: \n",
      " [2 0 2 2 2 0 2 1 1 1 2 0 2 0 0 0 1 2 1 2 1 2 2 1 1 2 0 2 0 0 1 0 0 1 2 1 2\n",
      " 0 1 2 2 2 0 2 0]\n"
     ]
    }
   ],
   "source": [
    "# Step 4: Train the model\n",
    "\n",
    "rfc = RandomForestClassifier(n_estimators = 100)\n",
    "rfc.fit(X_train, y_train)\n",
    "\n",
    "# performing predictions on the test dataset\n",
    "y_pred = rfc.predict(X_test)\n",
    "print(\"The prediction from the trained model is:\",\"\\n\",y_pred)\n"
   ]
  },
  {
   "cell_type": "code",
   "execution_count": 32,
   "id": "f3a6cdc8-1e92-47b8-83d3-62c249007fec",
   "metadata": {},
   "outputs": [
    {
     "name": "stdout",
     "output_type": "stream",
     "text": [
      "ACCURACY OF THE MODEL: 0.9333333333333333\n"
     ]
    }
   ],
   "source": [
    "# Step 5: Checking the accuracy of the model\n",
    "\n",
    "rfc_score = accuracy_score(y_test, y_pred)\n",
    "print(\"ACCURACY OF THE MODEL:\", rfc_score)"
   ]
  },
  {
   "cell_type": "code",
   "execution_count": 40,
   "id": "e8472da0-3e21-4ae2-aac0-d3e88074905d",
   "metadata": {},
   "outputs": [
    {
     "name": "stdout",
     "output_type": "stream",
     "text": [
      "The predicted flower type: Virginia\n"
     ]
    }
   ],
   "source": [
    "# Step 6: making the predictions \n",
    "\n",
    "# predicting which type of flower it is\n",
    "flower = rfc.predict([[7, 1, 4, 2]])\n",
    "\n",
    "if flower == [0]:\n",
    "    print(\"The predicted flower type: Setosa\")\n",
    "elif flower == [1]:\n",
    "    print(\"The predicted flower type: Versicolor\")\n",
    "else:\n",
    "    print(\"The predicted flower type: Virginia\")\n",
    "\n"
   ]
  },
  {
   "cell_type": "code",
   "execution_count": 47,
   "id": "798fa3c3-c1f5-48e8-906c-8bd84fc8fba9",
   "metadata": {},
   "outputs": [
    {
     "data": {
      "text/plain": [
       "petal length (cm)    0.432232\n",
       "petal width (cm)     0.410720\n",
       "sepal length (cm)    0.131942\n",
       "sepal width (cm)     0.025107\n",
       "dtype: float64"
      ]
     },
     "execution_count": 47,
     "metadata": {},
     "output_type": "execute_result"
    }
   ],
   "source": [
    "# Step 7: Find out the important features or selecting features in the IRIS dataset\n",
    "# using the feature importance variable\n",
    "\n",
    "feature_imp = pd.Series(rfc.feature_importances_, index = iris.feature_names).sort_values(ascending = False)\n",
    "feature_imp"
   ]
  },
  {
   "cell_type": "code",
   "execution_count": null,
   "id": "0cc7c2fd-5978-4ae6-9ead-4823ce158596",
   "metadata": {},
   "outputs": [],
   "source": []
  },
  {
   "cell_type": "code",
   "execution_count": null,
   "id": "51510297-64bb-4404-9f3d-213d11b4181c",
   "metadata": {},
   "outputs": [],
   "source": []
  },
  {
   "cell_type": "code",
   "execution_count": null,
   "id": "33758278-052a-47c3-8f6d-9f2f061fa545",
   "metadata": {},
   "outputs": [],
   "source": []
  }
 ],
 "metadata": {
  "kernelspec": {
   "display_name": "Python 3 (ipykernel)",
   "language": "python",
   "name": "python3"
  },
  "language_info": {
   "codemirror_mode": {
    "name": "ipython",
    "version": 3
   },
   "file_extension": ".py",
   "mimetype": "text/x-python",
   "name": "python",
   "nbconvert_exporter": "python",
   "pygments_lexer": "ipython3",
   "version": "3.11.7"
  }
 },
 "nbformat": 4,
 "nbformat_minor": 5
}
